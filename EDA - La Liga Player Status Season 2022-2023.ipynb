{
 "cells": [
  {
   "cell_type": "code",
   "execution_count": 1,
   "id": "422b744e",
   "metadata": {},
   "outputs": [],
   "source": [
    "import pandas as pd\n",
    "import numpy as np\n",
    "import matplotlib.pyplot as plt\n",
    "import seaborn as sns"
   ]
  },
  {
   "cell_type": "markdown",
   "id": "f1e642b5",
   "metadata": {},
   "source": [
    "<h2>1. Data gathering and inspection</h2>"
   ]
  },
  {
   "cell_type": "code",
   "execution_count": 2,
   "id": "ab54c0bd",
   "metadata": {},
   "outputs": [
    {
     "data": {
      "text/html": [
       "<div>\n",
       "<style scoped>\n",
       "    .dataframe tbody tr th:only-of-type {\n",
       "        vertical-align: middle;\n",
       "    }\n",
       "\n",
       "    .dataframe tbody tr th {\n",
       "        vertical-align: top;\n",
       "    }\n",
       "\n",
       "    .dataframe thead th {\n",
       "        text-align: right;\n",
       "    }\n",
       "</style>\n",
       "<table border=\"1\" class=\"dataframe\">\n",
       "  <thead>\n",
       "    <tr style=\"text-align: right;\">\n",
       "      <th></th>\n",
       "      <th>Player Name</th>\n",
       "      <th>Team-name</th>\n",
       "      <th>Age</th>\n",
       "      <th>Position</th>\n",
       "      <th>App</th>\n",
       "      <th>MinP</th>\n",
       "      <th>Goals</th>\n",
       "      <th>Assist</th>\n",
       "      <th>YC</th>\n",
       "      <th>RC</th>\n",
       "      <th>SPG</th>\n",
       "      <th>PS%</th>\n",
       "      <th>AW</th>\n",
       "      <th>MOTM</th>\n",
       "      <th>Rating</th>\n",
       "    </tr>\n",
       "  </thead>\n",
       "  <tbody>\n",
       "    <tr>\n",
       "      <th>0</th>\n",
       "      <td>Robert Lewandowski</td>\n",
       "      <td>Barcelona</td>\n",
       "      <td>34</td>\n",
       "      <td>FW</td>\n",
       "      <td>20(1)</td>\n",
       "      <td>1682</td>\n",
       "      <td>15.0</td>\n",
       "      <td>5.0</td>\n",
       "      <td>NaN</td>\n",
       "      <td>1.0</td>\n",
       "      <td>3.8</td>\n",
       "      <td>79</td>\n",
       "      <td>1.6</td>\n",
       "      <td>7.0</td>\n",
       "      <td>7.53</td>\n",
       "    </tr>\n",
       "    <tr>\n",
       "      <th>1</th>\n",
       "      <td>Karim Benzema</td>\n",
       "      <td>Real Madrid</td>\n",
       "      <td>35</td>\n",
       "      <td>FW</td>\n",
       "      <td>15</td>\n",
       "      <td>1306</td>\n",
       "      <td>11.0</td>\n",
       "      <td>3.0</td>\n",
       "      <td>1.0</td>\n",
       "      <td>NaN</td>\n",
       "      <td>4.7</td>\n",
       "      <td>87</td>\n",
       "      <td>0.7</td>\n",
       "      <td>4.0</td>\n",
       "      <td>7.45</td>\n",
       "    </tr>\n",
       "    <tr>\n",
       "      <th>2</th>\n",
       "      <td>Antoine Griezmann</td>\n",
       "      <td>Atletico</td>\n",
       "      <td>31</td>\n",
       "      <td>AM(CLR) FW</td>\n",
       "      <td>18(7)</td>\n",
       "      <td>1693</td>\n",
       "      <td>8.0</td>\n",
       "      <td>8.0</td>\n",
       "      <td>NaN</td>\n",
       "      <td>NaN</td>\n",
       "      <td>2.6</td>\n",
       "      <td>81.5</td>\n",
       "      <td>0.8</td>\n",
       "      <td>5.0</td>\n",
       "      <td>7.45</td>\n",
       "    </tr>\n",
       "    <tr>\n",
       "      <th>3</th>\n",
       "      <td>Vinícius Júnior</td>\n",
       "      <td>Real Madrid</td>\n",
       "      <td>22</td>\n",
       "      <td>AM(L) FW</td>\n",
       "      <td>24</td>\n",
       "      <td>2122</td>\n",
       "      <td>8.0</td>\n",
       "      <td>4.0</td>\n",
       "      <td>8.0</td>\n",
       "      <td>NaN</td>\n",
       "      <td>2.5</td>\n",
       "      <td>82.3</td>\n",
       "      <td>NaN</td>\n",
       "      <td>4.0</td>\n",
       "      <td>7.38</td>\n",
       "    </tr>\n",
       "    <tr>\n",
       "      <th>4</th>\n",
       "      <td>Pedri</td>\n",
       "      <td>Barcelona</td>\n",
       "      <td>20</td>\n",
       "      <td>AM(CL)</td>\n",
       "      <td>18(3)</td>\n",
       "      <td>1634</td>\n",
       "      <td>6.0</td>\n",
       "      <td>NaN</td>\n",
       "      <td>2.0</td>\n",
       "      <td>NaN</td>\n",
       "      <td>0.8</td>\n",
       "      <td>88.5</td>\n",
       "      <td>NaN</td>\n",
       "      <td>3.0</td>\n",
       "      <td>7.28</td>\n",
       "    </tr>\n",
       "  </tbody>\n",
       "</table>\n",
       "</div>"
      ],
      "text/plain": [
       "          Player Name    Team-name  Age       Position    App  MinP  Goals  \\\n",
       "0  Robert Lewandowski    Barcelona   34             FW  20(1)  1682   15.0   \n",
       "1       Karim Benzema  Real Madrid   35             FW     15  1306   11.0   \n",
       "2   Antoine Griezmann     Atletico   31     AM(CLR) FW  18(7)  1693    8.0   \n",
       "3     Vinícius Júnior  Real Madrid   22       AM(L) FW     24  2122    8.0   \n",
       "4               Pedri    Barcelona   20         AM(CL)  18(3)  1634    6.0   \n",
       "\n",
       "   Assist   YC   RC  SPG   PS%   AW  MOTM  Rating  \n",
       "0     5.0  NaN  1.0  3.8    79  1.6   7.0    7.53  \n",
       "1     3.0  1.0  NaN  4.7    87  0.7   4.0    7.45  \n",
       "2     8.0  NaN  NaN  2.6  81.5  0.8   5.0    7.45  \n",
       "3     4.0  8.0  NaN  2.5  82.3  NaN   4.0    7.38  \n",
       "4     NaN  2.0  NaN  0.8  88.5  NaN   3.0    7.28  "
      ]
     },
     "execution_count": 2,
     "metadata": {},
     "output_type": "execute_result"
    }
   ],
   "source": [
    "data=\"/Users/dobaophuc/Documents/học data analyst/dataset/lalaiga 2 all player final - lalaiga 2 all player.csv\"\n",
    "df = pd.read_csv(data)\n",
    "df.head()"
   ]
  },
  {
   "cell_type": "code",
   "execution_count": 3,
   "id": "4fcdcf4a",
   "metadata": {},
   "outputs": [
    {
     "name": "stdout",
     "output_type": "stream",
     "text": [
      "<class 'pandas.core.frame.DataFrame'>\n",
      "RangeIndex: 542 entries, 0 to 541\n",
      "Data columns (total 15 columns):\n",
      " #   Column       Non-Null Count  Dtype  \n",
      "---  ------       --------------  -----  \n",
      " 0   Player Name  542 non-null    object \n",
      " 1   Team-name    542 non-null    object \n",
      " 2   Age          542 non-null    int64  \n",
      " 3   Position     542 non-null    object \n",
      " 4   App          541 non-null    object \n",
      " 5   MinP         542 non-null    int64  \n",
      " 6   Goals        216 non-null    float64\n",
      " 7   Assist       206 non-null    float64\n",
      " 8   YC           394 non-null    float64\n",
      " 9   RC           92 non-null     float64\n",
      " 10  SPG          440 non-null    float64\n",
      " 11  PS%          542 non-null    object \n",
      " 12  AW           456 non-null    float64\n",
      " 13  MOTM         151 non-null    float64\n",
      " 14  Rating       542 non-null    float64\n",
      "dtypes: float64(8), int64(2), object(5)\n",
      "memory usage: 63.6+ KB\n"
     ]
    }
   ],
   "source": [
    "df.info()"
   ]
  },
  {
   "cell_type": "code",
   "execution_count": 4,
   "id": "4225ea39",
   "metadata": {},
   "outputs": [
    {
     "data": {
      "text/html": [
       "<div>\n",
       "<style scoped>\n",
       "    .dataframe tbody tr th:only-of-type {\n",
       "        vertical-align: middle;\n",
       "    }\n",
       "\n",
       "    .dataframe tbody tr th {\n",
       "        vertical-align: top;\n",
       "    }\n",
       "\n",
       "    .dataframe thead th {\n",
       "        text-align: right;\n",
       "    }\n",
       "</style>\n",
       "<table border=\"1\" class=\"dataframe\">\n",
       "  <thead>\n",
       "    <tr style=\"text-align: right;\">\n",
       "      <th></th>\n",
       "      <th>Age</th>\n",
       "      <th>MinP</th>\n",
       "      <th>Goals</th>\n",
       "      <th>Assist</th>\n",
       "      <th>YC</th>\n",
       "      <th>RC</th>\n",
       "      <th>SPG</th>\n",
       "      <th>AW</th>\n",
       "      <th>MOTM</th>\n",
       "      <th>Rating</th>\n",
       "    </tr>\n",
       "  </thead>\n",
       "  <tbody>\n",
       "    <tr>\n",
       "      <th>count</th>\n",
       "      <td>542.000000</td>\n",
       "      <td>542.000000</td>\n",
       "      <td>216.000000</td>\n",
       "      <td>206.000000</td>\n",
       "      <td>394.000000</td>\n",
       "      <td>92.000000</td>\n",
       "      <td>440.000000</td>\n",
       "      <td>456.000000</td>\n",
       "      <td>151.000000</td>\n",
       "      <td>542.000000</td>\n",
       "    </tr>\n",
       "    <tr>\n",
       "      <th>mean</th>\n",
       "      <td>26.843173</td>\n",
       "      <td>897.415129</td>\n",
       "      <td>2.652778</td>\n",
       "      <td>1.932039</td>\n",
       "      <td>3.134518</td>\n",
       "      <td>1.108696</td>\n",
       "      <td>0.808864</td>\n",
       "      <td>0.887061</td>\n",
       "      <td>1.629139</td>\n",
       "      <td>6.477675</td>\n",
       "    </tr>\n",
       "    <tr>\n",
       "      <th>std</th>\n",
       "      <td>4.704124</td>\n",
       "      <td>663.629943</td>\n",
       "      <td>2.512257</td>\n",
       "      <td>1.207797</td>\n",
       "      <td>1.997371</td>\n",
       "      <td>0.376698</td>\n",
       "      <td>0.634748</td>\n",
       "      <td>0.732831</td>\n",
       "      <td>1.080839</td>\n",
       "      <td>0.311721</td>\n",
       "    </tr>\n",
       "    <tr>\n",
       "      <th>min</th>\n",
       "      <td>17.000000</td>\n",
       "      <td>1.000000</td>\n",
       "      <td>1.000000</td>\n",
       "      <td>1.000000</td>\n",
       "      <td>1.000000</td>\n",
       "      <td>1.000000</td>\n",
       "      <td>0.100000</td>\n",
       "      <td>0.100000</td>\n",
       "      <td>1.000000</td>\n",
       "      <td>4.630000</td>\n",
       "    </tr>\n",
       "    <tr>\n",
       "      <th>25%</th>\n",
       "      <td>23.000000</td>\n",
       "      <td>280.500000</td>\n",
       "      <td>1.000000</td>\n",
       "      <td>1.000000</td>\n",
       "      <td>1.000000</td>\n",
       "      <td>1.000000</td>\n",
       "      <td>0.400000</td>\n",
       "      <td>0.400000</td>\n",
       "      <td>1.000000</td>\n",
       "      <td>6.252500</td>\n",
       "    </tr>\n",
       "    <tr>\n",
       "      <th>50%</th>\n",
       "      <td>27.000000</td>\n",
       "      <td>862.500000</td>\n",
       "      <td>2.000000</td>\n",
       "      <td>2.000000</td>\n",
       "      <td>3.000000</td>\n",
       "      <td>1.000000</td>\n",
       "      <td>0.600000</td>\n",
       "      <td>0.700000</td>\n",
       "      <td>1.000000</td>\n",
       "      <td>6.490000</td>\n",
       "    </tr>\n",
       "    <tr>\n",
       "      <th>75%</th>\n",
       "      <td>30.000000</td>\n",
       "      <td>1445.250000</td>\n",
       "      <td>3.000000</td>\n",
       "      <td>2.000000</td>\n",
       "      <td>4.000000</td>\n",
       "      <td>1.000000</td>\n",
       "      <td>1.025000</td>\n",
       "      <td>1.200000</td>\n",
       "      <td>2.000000</td>\n",
       "      <td>6.670000</td>\n",
       "    </tr>\n",
       "    <tr>\n",
       "      <th>max</th>\n",
       "      <td>41.000000</td>\n",
       "      <td>2250.000000</td>\n",
       "      <td>15.000000</td>\n",
       "      <td>8.000000</td>\n",
       "      <td>10.000000</td>\n",
       "      <td>3.000000</td>\n",
       "      <td>4.700000</td>\n",
       "      <td>5.600000</td>\n",
       "      <td>7.000000</td>\n",
       "      <td>7.530000</td>\n",
       "    </tr>\n",
       "  </tbody>\n",
       "</table>\n",
       "</div>"
      ],
      "text/plain": [
       "              Age         MinP       Goals      Assist          YC         RC  \\\n",
       "count  542.000000   542.000000  216.000000  206.000000  394.000000  92.000000   \n",
       "mean    26.843173   897.415129    2.652778    1.932039    3.134518   1.108696   \n",
       "std      4.704124   663.629943    2.512257    1.207797    1.997371   0.376698   \n",
       "min     17.000000     1.000000    1.000000    1.000000    1.000000   1.000000   \n",
       "25%     23.000000   280.500000    1.000000    1.000000    1.000000   1.000000   \n",
       "50%     27.000000   862.500000    2.000000    2.000000    3.000000   1.000000   \n",
       "75%     30.000000  1445.250000    3.000000    2.000000    4.000000   1.000000   \n",
       "max     41.000000  2250.000000   15.000000    8.000000   10.000000   3.000000   \n",
       "\n",
       "              SPG          AW        MOTM      Rating  \n",
       "count  440.000000  456.000000  151.000000  542.000000  \n",
       "mean     0.808864    0.887061    1.629139    6.477675  \n",
       "std      0.634748    0.732831    1.080839    0.311721  \n",
       "min      0.100000    0.100000    1.000000    4.630000  \n",
       "25%      0.400000    0.400000    1.000000    6.252500  \n",
       "50%      0.600000    0.700000    1.000000    6.490000  \n",
       "75%      1.025000    1.200000    2.000000    6.670000  \n",
       "max      4.700000    5.600000    7.000000    7.530000  "
      ]
     },
     "execution_count": 4,
     "metadata": {},
     "output_type": "execute_result"
    }
   ],
   "source": [
    "df.describe()"
   ]
  },
  {
   "cell_type": "code",
   "execution_count": 5,
   "id": "2834b4bb",
   "metadata": {},
   "outputs": [
    {
     "data": {
      "text/plain": [
       "False"
      ]
     },
     "execution_count": 5,
     "metadata": {},
     "output_type": "execute_result"
    }
   ],
   "source": [
    "df.duplicated().any()"
   ]
  },
  {
   "cell_type": "markdown",
   "id": "c1560aa0",
   "metadata": {},
   "source": [
    "<h2>2. Exploratory Data Analytics</h2>"
   ]
  },
  {
   "cell_type": "markdown",
   "id": "3d1edbd4",
   "metadata": {},
   "source": [
    "<p><strong>Context:</strong> Top 3 competitors for the Laliga title are usually <strong>Barcelona, Real Maldrid</strong> and <strong>Atletico</strong>. This analysis, thus, would mainly concentrate on these 3 big guys, to provide some meaningful insights about why the winners win and the losers lose.</p>"
   ]
  },
  {
   "cell_type": "markdown",
   "id": "f2e1e590",
   "metadata": {},
   "source": [
    "<h3>Age distribution</h3>"
   ]
  },
  {
   "cell_type": "code",
   "execution_count": 120,
   "id": "c13e4472",
   "metadata": {},
   "outputs": [],
   "source": [
    "font = {'family' : 'Helvetica',\n",
    "        'weight' : 'normal',\n",
    "        'size'   : 15}\n",
    "\n",
    "plt.rc('font', **font)"
   ]
  },
  {
   "cell_type": "code",
   "execution_count": 122,
   "id": "268859ec",
   "metadata": {},
   "outputs": [
    {
     "data": {
      "image/png": "[encoded data removed]",
      "text/plain": [
       "<Figure size 2000x700 with 1 Axes>"
      ]
     },
     "metadata": {},
     "output_type": "display_data"
    }
   ],
   "source": [
    "plt.figure(figsize= (20,7))\n",
    "colors=[]\n",
    "for i in df['Team-name'].unique():\n",
    "    if i == 'Barcelona' or i == 'Atletico':\n",
    "        colors.append('red')\n",
    "    else:\n",
    "        colors.append('lightgrey')\n",
    "sns.boxplot(x='Team-name',y='Age',data=df, palette=colors)\n",
    "plt.title('Age statistics of all the teams')\n",
    "plt.xlabel('Team Name')\n",
    "plt.ylabel('Age')\n",
    "plt.xticks(rotation=90)\n",
    "plt.show()"
   ]
  },
  {
   "cell_type": "markdown",
   "id": "b4c29c47",
   "metadata": {},
   "source": [
    "<p><strong>Comment:</strong> It can be seen that <strong>Atletico</strong> has the <strong>highest</strong> age median among the top 3, especially compared with <strong>Barcelona</strong>.</p>"
   ]
  },
  {
   "cell_type": "markdown",
   "id": "7c72670e",
   "metadata": {},
   "source": [
    "<h3>Age mean</h3>"
   ]
  },
  {
   "cell_type": "code",
   "execution_count": 7,
   "id": "f36299fd",
   "metadata": {},
   "outputs": [],
   "source": [
    "Agemean = df.groupby(['Team-name'], as_index=False)['Age'].mean()\n",
    "Agemean = Agemean.sort_values(by='Age')"
   ]
  },
  {
   "cell_type": "code",
   "execution_count": 123,
   "id": "05a48384",
   "metadata": {},
   "outputs": [
    {
     "data": {
      "image/png": "[encoded data removed]",
      "text/plain": [
       "<Figure size 2000x700 with 1 Axes>"
      ]
     },
     "metadata": {},
     "output_type": "display_data"
    }
   ],
   "source": [
    "plt.figure(figsize=(20,7))\n",
    "colors=[]\n",
    "for i in Agemean['Team-name'].unique():\n",
    "    if i == 'Barcelona' or i == 'Atletico' or i== 'Real Madrid':\n",
    "        colors.append('red')\n",
    "    else:\n",
    "        colors.append('lightgrey')\n",
    "plt.bar(Agemean['Team-name'],Agemean['Age'], color=colors)\n",
    "plt.title('The average age of Laliga teams from youngest to oldest')\n",
    "plt.xlabel('Team name')\n",
    "plt.ylabel('Age Mean')\n",
    "plt.xticks(rotation=90)\n",
    "plt.grid(True)\n",
    "plt.show()"
   ]
  },
  {
   "cell_type": "markdown",
   "id": "c7553698",
   "metadata": {},
   "source": [
    "<p><strong>Comment:</strong> It can be seen that <strong>Atletico</strong> lies in the oldest teams, while <strong>Barcelona</strong> contains comparatively younger squad. This would help Barcelona maintain and develop their play style and strategies in the next seasons</p>"
   ]
  },
  {
   "cell_type": "markdown",
   "id": "8961258c",
   "metadata": {},
   "source": [
    "<h3>CDF - Cumulative Distribution Function</h3>"
   ]
  },
  {
   "cell_type": "code",
   "execution_count": 124,
   "id": "dd6485ca",
   "metadata": {},
   "outputs": [
    {
     "data": {
      "image/png": "[encoded data removed]",
      "text/plain": [
       "<Figure size 1500x700 with 1 Axes>"
      ]
     },
     "metadata": {},
     "output_type": "display_data"
    }
   ],
   "source": [
    "dfbar = df[df['Team-name']=='Barcelona']\n",
    "dfatl = df[df['Team-name']=='Atletico']\n",
    "dfmad = df[df['Team-name']=='Real Madrid']\n",
    "\n",
    "plt.figure(figsize=(15,7))\n",
    "\n",
    "count1, bins_count1 = np.histogram(dfbar['Age'],bins=120)\n",
    "pdf1 = count1/sum(count1)\n",
    "cdf1 = np.cumsum(pdf1)\n",
    "plt.plot(bins_count1[1:],cdf1,label='Barcelona')\n",
    "\n",
    "count2, bins_count2 = np.histogram(dfatl['Age'],bins=120)\n",
    "pdf2 = count2/sum(count2)\n",
    "cdf2 = np.cumsum(pdf2)\n",
    "plt.plot(bins_count2[1:],cdf2,label='Atletico')\n",
    "\n",
    "count3, bins_count3 = np.histogram(dfmad['Age'],bins=120)\n",
    "pdf3 = count3/sum(count3)\n",
    "cdf3 = np.cumsum(pdf3)\n",
    "plt.plot(bins_count3[1:],cdf3,label='Real Madrid')\n",
    "plt.title('Cumulative Age Distribution')\n",
    "plt.xlabel('Age')\n",
    "plt.ylabel('Percentage')\n",
    "plt.legend()\n",
    "plt.grid()\n",
    "plt.show()"
   ]
  },
  {
   "cell_type": "markdown",
   "id": "bd5f57fc",
   "metadata": {},
   "source": [
    "<p><strong>Comment:</strong> It can be clearly seen from this chart that <strong>less than 20%</strong> players of Atletico aged 26 and under, while young players aged U26 account for more than <strong>50%</strong> and <strong>60%</strong> in Real Madrid and Barcelona respectively.</p>"
   ]
  },
  {
   "cell_type": "code",
   "execution_count": 71,
   "id": "698652b4",
   "metadata": {},
   "outputs": [
    {
     "data": {
      "text/html": [
       "<div>\n",
       "<style scoped>\n",
       "    .dataframe tbody tr th:only-of-type {\n",
       "        vertical-align: middle;\n",
       "    }\n",
       "\n",
       "    .dataframe tbody tr th {\n",
       "        vertical-align: top;\n",
       "    }\n",
       "\n",
       "    .dataframe thead th {\n",
       "        text-align: right;\n",
       "    }\n",
       "</style>\n",
       "<table border=\"1\" class=\"dataframe\">\n",
       "  <thead>\n",
       "    <tr style=\"text-align: right;\">\n",
       "      <th></th>\n",
       "      <th>Team-name</th>\n",
       "      <th>Goals</th>\n",
       "      <th>Age</th>\n",
       "    </tr>\n",
       "  </thead>\n",
       "  <tbody>\n",
       "    <tr>\n",
       "      <th>0</th>\n",
       "      <td>Real Madrid</td>\n",
       "      <td>50.0</td>\n",
       "      <td>27.375</td>\n",
       "    </tr>\n",
       "    <tr>\n",
       "      <th>1</th>\n",
       "      <td>Barcelona</td>\n",
       "      <td>47.0</td>\n",
       "      <td>25.37037</td>\n",
       "    </tr>\n",
       "    <tr>\n",
       "      <th>2</th>\n",
       "      <td>Atletico</td>\n",
       "      <td>34.0</td>\n",
       "      <td>28.086957</td>\n",
       "    </tr>\n",
       "    <tr>\n",
       "      <th>3</th>\n",
       "      <td>Girona</td>\n",
       "      <td>33.0</td>\n",
       "      <td>25.888889</td>\n",
       "    </tr>\n",
       "    <tr>\n",
       "      <th>4</th>\n",
       "      <td>Athletic Bilbao</td>\n",
       "      <td>32.0</td>\n",
       "      <td>27.44</td>\n",
       "    </tr>\n",
       "    <tr>\n",
       "      <th>5</th>\n",
       "      <td>Real Sociedad</td>\n",
       "      <td>31.0</td>\n",
       "      <td>24.724138</td>\n",
       "    </tr>\n",
       "    <tr>\n",
       "      <th>6</th>\n",
       "      <td>Espanyol</td>\n",
       "      <td>31.0</td>\n",
       "      <td>25.448276</td>\n",
       "    </tr>\n",
       "    <tr>\n",
       "      <th>7</th>\n",
       "      <td>Real Betis</td>\n",
       "      <td>30.0</td>\n",
       "      <td>28.033333</td>\n",
       "    </tr>\n",
       "    <tr>\n",
       "      <th>8</th>\n",
       "      <td>Villarreal</td>\n",
       "      <td>28.0</td>\n",
       "      <td>27.407407</td>\n",
       "    </tr>\n",
       "    <tr>\n",
       "      <th>9</th>\n",
       "      <td>Sevilla</td>\n",
       "      <td>28.0</td>\n",
       "      <td>27.366667</td>\n",
       "    </tr>\n",
       "    <tr>\n",
       "      <th>10</th>\n",
       "      <td>Almeria</td>\n",
       "      <td>27.0</td>\n",
       "      <td>26.074074</td>\n",
       "    </tr>\n",
       "    <tr>\n",
       "      <th>11</th>\n",
       "      <td>Celta Vigo</td>\n",
       "      <td>27.0</td>\n",
       "      <td>26.0</td>\n",
       "    </tr>\n",
       "    <tr>\n",
       "      <th>12</th>\n",
       "      <td>Rayo Vallecano</td>\n",
       "      <td>26.0</td>\n",
       "      <td>28.185185</td>\n",
       "    </tr>\n",
       "    <tr>\n",
       "      <th>13</th>\n",
       "      <td>Valencia</td>\n",
       "      <td>26.0</td>\n",
       "      <td>24.04</td>\n",
       "    </tr>\n",
       "    <tr>\n",
       "      <th>14</th>\n",
       "      <td>Getafe</td>\n",
       "      <td>25.0</td>\n",
       "      <td>26.76</td>\n",
       "    </tr>\n",
       "    <tr>\n",
       "      <th>15</th>\n",
       "      <td>Osasuna</td>\n",
       "      <td>21.0</td>\n",
       "      <td>27.347826</td>\n",
       "    </tr>\n",
       "    <tr>\n",
       "      <th>16</th>\n",
       "      <td>Mallorca</td>\n",
       "      <td>21.0</td>\n",
       "      <td>28.08</td>\n",
       "    </tr>\n",
       "    <tr>\n",
       "      <th>17</th>\n",
       "      <td>Elche</td>\n",
       "      <td>19.0</td>\n",
       "      <td>27.806452</td>\n",
       "    </tr>\n",
       "    <tr>\n",
       "      <th>18</th>\n",
       "      <td>Cadiz</td>\n",
       "      <td>19.0</td>\n",
       "      <td>28.029412</td>\n",
       "    </tr>\n",
       "    <tr>\n",
       "      <th>19</th>\n",
       "      <td>Real Valladolid</td>\n",
       "      <td>18.0</td>\n",
       "      <td>27.133333</td>\n",
       "    </tr>\n",
       "  </tbody>\n",
       "</table>\n",
       "</div>"
      ],
      "text/plain": [
       "          Team-name Goals        Age\n",
       "0       Real Madrid  50.0     27.375\n",
       "1         Barcelona  47.0   25.37037\n",
       "2          Atletico  34.0  28.086957\n",
       "3            Girona  33.0  25.888889\n",
       "4   Athletic Bilbao  32.0      27.44\n",
       "5     Real Sociedad  31.0  24.724138\n",
       "6          Espanyol  31.0  25.448276\n",
       "7        Real Betis  30.0  28.033333\n",
       "8        Villarreal  28.0  27.407407\n",
       "9           Sevilla  28.0  27.366667\n",
       "10          Almeria  27.0  26.074074\n",
       "11       Celta Vigo  27.0       26.0\n",
       "12   Rayo Vallecano  26.0  28.185185\n",
       "13         Valencia  26.0      24.04\n",
       "14           Getafe  25.0      26.76\n",
       "15          Osasuna  21.0  27.347826\n",
       "16         Mallorca  21.0      28.08\n",
       "17            Elche  19.0  27.806452\n",
       "18            Cadiz  19.0  28.029412\n",
       "19  Real Valladolid  18.0  27.133333"
      ]
     },
     "execution_count": 71,
     "metadata": {},
     "output_type": "execute_result"
    }
   ],
   "source": [
    "dfgoals = df[['Team-name','Age','Goals']].groupby(['Team-name'], as_index=False)['Goals'].sum()\n",
    "dfgoals.sort_values(by='Goals', ascending = False, inplace = True)\n",
    "\n",
    "dfgoalsage = pd.concat([dfgoals,Agemean], axis=1).reset_index(drop=True).T.drop_duplicates().T\n",
    "dfgoalsage"
   ]
  },
  {
   "cell_type": "code",
   "execution_count": 74,
   "id": "55ff25ed",
   "metadata": {},
   "outputs": [
    {
     "data": {
      "text/plain": [
       "Team-name     object\n",
       "Goals        float64\n",
       "Age          float64\n",
       "dtype: object"
      ]
     },
     "execution_count": 74,
     "metadata": {},
     "output_type": "execute_result"
    }
   ],
   "source": [
    "dfgoalsage[['Goals','Age']] = dfgoalsage[['Goals','Age']].astype(float)\n",
    "dfgoalsage.dtypes"
   ]
  },
  {
   "cell_type": "markdown",
   "id": "332aa26e",
   "metadata": {},
   "source": [
    "<h3>Age - Goal Correlation</h3>"
   ]
  },
  {
   "cell_type": "code",
   "execution_count": 125,
   "id": "e82369d0",
   "metadata": {},
   "outputs": [
    {
     "data": {
      "image/png": "[encoded data removed]",
      "text/plain": [
       "<Figure size 640x480 with 1 Axes>"
      ]
     },
     "metadata": {},
     "output_type": "display_data"
    }
   ],
   "source": [
    "sns.regplot(x='Age',y='Goals',data=dfgoalsage)\n",
    "plt.title('Age - Goal Correlation')\n",
    "plt.show()"
   ]
  },
  {
   "cell_type": "code",
   "execution_count": 76,
   "id": "31a82356",
   "metadata": {},
   "outputs": [
    {
     "data": {
      "text/html": [
       "<div>\n",
       "<style scoped>\n",
       "    .dataframe tbody tr th:only-of-type {\n",
       "        vertical-align: middle;\n",
       "    }\n",
       "\n",
       "    .dataframe tbody tr th {\n",
       "        vertical-align: top;\n",
       "    }\n",
       "\n",
       "    .dataframe thead th {\n",
       "        text-align: right;\n",
       "    }\n",
       "</style>\n",
       "<table border=\"1\" class=\"dataframe\">\n",
       "  <thead>\n",
       "    <tr style=\"text-align: right;\">\n",
       "      <th></th>\n",
       "      <th>Goals</th>\n",
       "      <th>Age</th>\n",
       "    </tr>\n",
       "  </thead>\n",
       "  <tbody>\n",
       "    <tr>\n",
       "      <th>Goals</th>\n",
       "      <td>1.000000</td>\n",
       "      <td>-0.250699</td>\n",
       "    </tr>\n",
       "    <tr>\n",
       "      <th>Age</th>\n",
       "      <td>-0.250699</td>\n",
       "      <td>1.000000</td>\n",
       "    </tr>\n",
       "  </tbody>\n",
       "</table>\n",
       "</div>"
      ],
      "text/plain": [
       "          Goals       Age\n",
       "Goals  1.000000 -0.250699\n",
       "Age   -0.250699  1.000000"
      ]
     },
     "execution_count": 76,
     "metadata": {},
     "output_type": "execute_result"
    }
   ],
   "source": [
    "dfgoalsage.corr()"
   ]
  },
  {
   "cell_type": "markdown",
   "id": "66950caf",
   "metadata": {},
   "source": [
    "<p><strong>Comment:</strong> The average Age is shown to have a <strong>negative correlation</strong> with a team's goal number, though the statistical meaning is not significant (~-0.25)</p>"
   ]
  },
  {
   "cell_type": "markdown",
   "id": "25b34097",
   "metadata": {},
   "source": [
    "<h3>Main contributors to the teams' goals</h3>"
   ]
  },
  {
   "cell_type": "code",
   "execution_count": 102,
   "id": "fe1df5ef",
   "metadata": {},
   "outputs": [
    {
     "data": {
      "text/html": [
       "<div>\n",
       "<style scoped>\n",
       "    .dataframe tbody tr th:only-of-type {\n",
       "        vertical-align: middle;\n",
       "    }\n",
       "\n",
       "    .dataframe tbody tr th {\n",
       "        vertical-align: top;\n",
       "    }\n",
       "\n",
       "    .dataframe thead th {\n",
       "        text-align: right;\n",
       "    }\n",
       "</style>\n",
       "<table border=\"1\" class=\"dataframe\">\n",
       "  <thead>\n",
       "    <tr style=\"text-align: right;\">\n",
       "      <th></th>\n",
       "      <th>Player Name</th>\n",
       "      <th>Team-name</th>\n",
       "      <th>Age</th>\n",
       "      <th>Position</th>\n",
       "      <th>App</th>\n",
       "      <th>MinP</th>\n",
       "      <th>Goals</th>\n",
       "      <th>Assist</th>\n",
       "      <th>YC</th>\n",
       "      <th>RC</th>\n",
       "      <th>SPG</th>\n",
       "      <th>PS%</th>\n",
       "      <th>AW</th>\n",
       "      <th>MOTM</th>\n",
       "      <th>Rating</th>\n",
       "      <th>Teamgoal</th>\n",
       "      <th>Goalrate</th>\n",
       "    </tr>\n",
       "  </thead>\n",
       "  <tbody>\n",
       "    <tr>\n",
       "      <th>17</th>\n",
       "      <td>Enes Ünal</td>\n",
       "      <td>Getafe</td>\n",
       "      <td>25</td>\n",
       "      <td>FW</td>\n",
       "      <td>25</td>\n",
       "      <td>2190</td>\n",
       "      <td>12.0</td>\n",
       "      <td>3.0</td>\n",
       "      <td>4.0</td>\n",
       "      <td>NaN</td>\n",
       "      <td>2.5</td>\n",
       "      <td>63.6</td>\n",
       "      <td>3.9</td>\n",
       "      <td>3.0</td>\n",
       "      <td>7.08</td>\n",
       "      <td>25.0</td>\n",
       "      <td>0.480000</td>\n",
       "    </tr>\n",
       "    <tr>\n",
       "      <th>27</th>\n",
       "      <td>Vedat Muriqi</td>\n",
       "      <td>Mallorca</td>\n",
       "      <td>28</td>\n",
       "      <td>FW</td>\n",
       "      <td>22</td>\n",
       "      <td>1923</td>\n",
       "      <td>10.0</td>\n",
       "      <td>2.0</td>\n",
       "      <td>5.0</td>\n",
       "      <td>1.0</td>\n",
       "      <td>2.3</td>\n",
       "      <td>58.1</td>\n",
       "      <td>5.6</td>\n",
       "      <td>3.0</td>\n",
       "      <td>7.02</td>\n",
       "      <td>21.0</td>\n",
       "      <td>0.476190</td>\n",
       "    </tr>\n",
       "    <tr>\n",
       "      <th>19</th>\n",
       "      <td>Iago Aspas</td>\n",
       "      <td>Celta Vigo</td>\n",
       "      <td>35</td>\n",
       "      <td>AM(CR) FW</td>\n",
       "      <td>23(2)</td>\n",
       "      <td>2108</td>\n",
       "      <td>11.0</td>\n",
       "      <td>3.0</td>\n",
       "      <td>3.0</td>\n",
       "      <td>NaN</td>\n",
       "      <td>2.4</td>\n",
       "      <td>79.2</td>\n",
       "      <td>0.8</td>\n",
       "      <td>2.0</td>\n",
       "      <td>7.07</td>\n",
       "      <td>27.0</td>\n",
       "      <td>0.407407</td>\n",
       "    </tr>\n",
       "    <tr>\n",
       "      <th>7</th>\n",
       "      <td>Joselu</td>\n",
       "      <td>Espanyol</td>\n",
       "      <td>32</td>\n",
       "      <td>FW</td>\n",
       "      <td>21(23)</td>\n",
       "      <td>1909</td>\n",
       "      <td>12.0</td>\n",
       "      <td>2.0</td>\n",
       "      <td>3.0</td>\n",
       "      <td>NaN</td>\n",
       "      <td>2.5</td>\n",
       "      <td>61.6</td>\n",
       "      <td>5.6</td>\n",
       "      <td>4.0</td>\n",
       "      <td>7.22</td>\n",
       "      <td>31.0</td>\n",
       "      <td>0.387097</td>\n",
       "    </tr>\n",
       "    <tr>\n",
       "      <th>109</th>\n",
       "      <td>Borja Iglesias</td>\n",
       "      <td>Real Betis</td>\n",
       "      <td>30</td>\n",
       "      <td>FW</td>\n",
       "      <td>21(2)</td>\n",
       "      <td>1692</td>\n",
       "      <td>11.0</td>\n",
       "      <td>3.0</td>\n",
       "      <td>1.0</td>\n",
       "      <td>1.0</td>\n",
       "      <td>2.1</td>\n",
       "      <td>74.8</td>\n",
       "      <td>0.7</td>\n",
       "      <td>1.0</td>\n",
       "      <td>6.71</td>\n",
       "      <td>30.0</td>\n",
       "      <td>0.366667</td>\n",
       "    </tr>\n",
       "  </tbody>\n",
       "</table>\n",
       "</div>"
      ],
      "text/plain": [
       "        Player Name   Team-name  Age      Position     App  MinP  Goals  \\\n",
       "17        Enes Ünal      Getafe   25            FW      25  2190   12.0   \n",
       "27     Vedat Muriqi    Mallorca   28            FW      22  1923   10.0   \n",
       "19       Iago Aspas  Celta Vigo   35     AM(CR) FW   23(2)  2108   11.0   \n",
       "7            Joselu    Espanyol   32            FW  21(23)  1909   12.0   \n",
       "109  Borja Iglesias  Real Betis   30            FW   21(2)  1692   11.0   \n",
       "\n",
       "     Assist   YC   RC  SPG   PS%   AW  MOTM  Rating  Teamgoal  Goalrate  \n",
       "17      3.0  4.0  NaN  2.5  63.6  3.9   3.0    7.08      25.0  0.480000  \n",
       "27      2.0  5.0  1.0  2.3  58.1  5.6   3.0    7.02      21.0  0.476190  \n",
       "19      3.0  3.0  NaN  2.4  79.2  0.8   2.0    7.07      27.0  0.407407  \n",
       "7       2.0  3.0  NaN  2.5  61.6  5.6   4.0    7.22      31.0  0.387097  \n",
       "109     3.0  1.0  1.0  2.1  74.8  0.7   1.0    6.71      30.0  0.366667  "
      ]
     },
     "execution_count": 102,
     "metadata": {},
     "output_type": "execute_result"
    }
   ],
   "source": [
    "goal = df.groupby('Team-name')['Goals'].sum()\n",
    "df['Teamgoal']=df['Team-name'].apply(lambda team_name: goal[team_name])\n",
    "df['Goalrate']=df['Goals']/df['Teamgoal']\n",
    "df1 = df.sort_values(by='Goalrate', ascending = False)\n",
    "df1.head()"
   ]
  },
  {
   "cell_type": "code",
   "execution_count": 113,
   "id": "090ba197",
   "metadata": {},
   "outputs": [
    {
     "data": {
      "application/vnd.plotly.v1+json": {
       "config": {
        "plotlyServerURL": "https://plot.ly"
       },
       "data": [
        {
         "hovertemplate": "<b>%{hovertext}</b><br><br>Goalrate=%{x}<br>Team-name=%{y}<br>Goals=%{marker.size}<extra></extra>",
         "hovertext": [
          "Robert Lewandowski",
          "Karim Benzema",
          "Antoine Griezmann",
          "Vinícius Júnior",
          "Pedri",
          "Federico Valverde",
          "Joselu",
          "Ousmane Dembélé",
          "Gonzalo Escalante",
          "Sergi Darder",
          "Enes Ünal",
          "Iago Aspas",
          "Raphinha",
          "Isi Palazón",
          "Vedat Muriqi",
          "Brais Méndez",
          "Sergi Guardiola",
          "Gerard Moreno",
          "Gabri Veiga",
          "Lee Kang-In",
          "Álvaro Morata",
          "Alexander Sørloth",
          "Álvaro García",
          "Takefusa Kubo",
          "Nico Williams",
          "Samuel Chukwueze",
          "Florian Lejeune",
          "Iñaki Williams",
          "Sergio Canales",
          "Borja Iglesias",
          "El Bilal Touré",
          "Chimy Avila",
          "Marco Asensio",
          "Martin Braithwaite",
          "Oihan Sancet",
          "Justin Kluivert",
          "Cyle Larin",
          "Nemanja Gudelj",
          "Yeremy Pino",
          "Sergio Camello",
          "Óliver Torres",
          "Dani Rodríguez",
          "Lucas Boyé",
          "Valentín Castellanos",
          "Álex Baena",
          "Léo Baptistão",
          "Rubén Alcaraz",
          "Rodrigo Riquelme",
          "Samu Castillejo",
          "Rubén Sobrino",
          "Juanmi",
          "Pere Milla",
          "Théo Bongonda",
          "Aimar Oroz",
          "Edinson Cavani",
          "Youssef En-Nesyri",
          "Roque Mesa",
          "Borja Mayoral",
          "Gorka Guruzeta",
          "Ángel Correa",
          "Erik Lamela",
          "José Morales",
          "Álex Fernández",
          "Largie Ramazani",
          "Cristhian Stuani",
          "Sergio León",
          "Rafa Mir",
          "Ezequiel Ponce",
          "Lucas Pérez"
         ],
         "legendgroup": "",
         "marker": {
          "color": "#636efa",
          "size": [
           15,
           11,
           8,
           8,
           6,
           7,
           12,
           5,
           2,
           4,
           12,
           11,
           6,
           5,
           10,
           7,
           2,
           6,
           8,
           3,
           10,
           9,
           4,
           4,
           4,
           3,
           4,
           5,
           4,
           11,
           6,
           7,
           5,
           8,
           8,
           4,
           4,
           3,
           3,
           5,
           3,
           3,
           3,
           6,
           4,
           3,
           2,
           4,
           3,
           2,
           4,
           6,
           2,
           3,
           5,
           5,
           2,
           6,
           5,
           5,
           4,
           4,
           3,
           3,
           6,
           5,
           3,
           3,
           3
          ],
          "sizemode": "area",
          "sizeref": 0.0375,
          "symbol": "circle"
         },
         "mode": "markers",
         "name": "",
         "orientation": "h",
         "showlegend": false,
         "type": "scatter",
         "x": [
          0.3191489361702128,
          0.22,
          0.23529411764705882,
          0.16,
          0.1276595744680851,
          0.14,
          0.3870967741935484,
          0.10638297872340426,
          0.10526315789473684,
          0.12903225806451613,
          0.48,
          0.4074074074074074,
          0.1276595744680851,
          0.19230769230769232,
          0.47619047619047616,
          0.22580645161290322,
          0.10526315789473684,
          0.21428571428571427,
          0.2962962962962963,
          0.14285714285714285,
          0.29411764705882354,
          0.2903225806451613,
          0.15384615384615385,
          0.12903225806451613,
          0.125,
          0.10714285714285714,
          0.15384615384615385,
          0.15625,
          0.13333333333333333,
          0.36666666666666664,
          0.2222222222222222,
          0.3333333333333333,
          0.1,
          0.25806451612903225,
          0.25,
          0.15384615384615385,
          0.2222222222222222,
          0.10714285714285714,
          0.10714285714285714,
          0.19230769230769232,
          0.10714285714285714,
          0.14285714285714285,
          0.15789473684210525,
          0.18181818181818182,
          0.14285714285714285,
          0.1111111111111111,
          0.10526315789473684,
          0.12121212121212122,
          0.11538461538461539,
          0.10526315789473684,
          0.13333333333333333,
          0.3157894736842105,
          0.10526315789473684,
          0.14285714285714285,
          0.19230769230769232,
          0.17857142857142858,
          0.1111111111111111,
          0.24,
          0.15625,
          0.14705882352941177,
          0.14285714285714285,
          0.14285714285714285,
          0.15789473684210525,
          0.1111111111111111,
          0.18181818181818182,
          0.2777777777777778,
          0.10714285714285714,
          0.15789473684210525,
          0.15789473684210525
         ],
         "xaxis": "x",
         "y": [
          "Barcelona",
          "Real Madrid",
          "Atletico",
          "Real Madrid",
          "Barcelona",
          "Real Madrid",
          "Espanyol",
          "Barcelona",
          "Cadiz",
          "Espanyol",
          "Getafe",
          "Celta Vigo",
          "Barcelona",
          "Rayo Vallecano",
          "Mallorca",
          "Real Sociedad",
          "Cadiz",
          "Villarreal",
          "Celta Vigo",
          "Mallorca",
          "Atletico",
          "Real Sociedad",
          "Rayo Vallecano",
          "Real Sociedad",
          "Athletic Bilbao",
          "Villarreal",
          "Rayo Vallecano",
          "Athletic Bilbao",
          "Real Betis",
          "Real Betis",
          "Almeria",
          "Osasuna",
          "Real Madrid",
          "Espanyol",
          "Athletic Bilbao",
          "Valencia",
          "Real Valladolid",
          "Sevilla",
          "Villarreal",
          "Rayo Vallecano",
          "Sevilla",
          "Mallorca",
          "Elche",
          "Girona",
          "Villarreal",
          "Almeria",
          "Cadiz",
          "Girona",
          "Valencia",
          "Cadiz",
          "Real Betis",
          "Elche",
          "Cadiz",
          "Osasuna",
          "Valencia",
          "Sevilla",
          "Real Valladolid",
          "Getafe",
          "Athletic Bilbao",
          "Atletico",
          "Sevilla",
          "Villarreal",
          "Cadiz",
          "Almeria",
          "Girona",
          "Real Valladolid",
          "Sevilla",
          "Elche",
          "Cadiz"
         ],
         "yaxis": "y"
        }
       ],
       "layout": {
        "height": 600,
        "legend": {
         "itemsizing": "constant",
         "tracegroupgap": 0
        },
        "template": {
         "data": {
          "bar": [
           {
            "error_x": {
             "color": "#2a3f5f"
            },
            "error_y": {
             "color": "#2a3f5f"
            },
            "marker": {
             "line": {
              "color": "#E5ECF6",
              "width": 0.5
             },
             "pattern": {
              "fillmode": "overlay",
              "size": 10,
              "solidity": 0.2
             }
            },
            "type": "bar"
           }
          ],
          "barpolar": [
           {
            "marker": {
             "line": {
              "color": "#E5ECF6",
              "width": 0.5
             },
             "pattern": {
              "fillmode": "overlay",
              "size": 10,
              "solidity": 0.2
             }
            },
            "type": "barpolar"
           }
          ],
          "carpet": [
           {
            "aaxis": {
             "endlinecolor": "#2a3f5f",
             "gridcolor": "white",
             "linecolor": "white",
             "minorgridcolor": "white",
             "startlinecolor": "#2a3f5f"
            },
            "baxis": {
             "endlinecolor": "#2a3f5f",
             "gridcolor": "white",
             "linecolor": "white",
             "minorgridcolor": "white",
             "startlinecolor": "#2a3f5f"
            },
            "type": "carpet"
           }
          ],
          "choropleth": [
           {
            "colorbar": {
             "outlinewidth": 0,
             "ticks": ""
            },
            "type": "choropleth"
           }
          ],
          "contour": [
           {
            "colorbar": {
             "outlinewidth": 0,
             "ticks": ""
            },
            "colorscale": [
             [
              0,
              "#0d0887"
             ],
             [
              0.1111111111111111,
              "#46039f"
             ],
             [
              0.2222222222222222,
              "#7201a8"
             ],
             [
              0.3333333333333333,
              "#9c179e"
             ],
             [
              0.4444444444444444,
              "#bd3786"
             ],
             [
              0.5555555555555556,
              "#d8576b"
             ],
             [
              0.6666666666666666,
              "#ed7953"
             ],
             [
              0.7777777777777778,
              "#fb9f3a"
             ],
             [
              0.8888888888888888,
              "#fdca26"
             ],
             [
              1,
              "#f0f921"
             ]
            ],
            "type": "contour"
           }
          ],
          "contourcarpet": [
           {
            "colorbar": {
             "outlinewidth": 0,
             "ticks": ""
            },
            "type": "contourcarpet"
           }
          ],
          "heatmap": [
           {
            "colorbar": {
             "outlinewidth": 0,
             "ticks": ""
            },
            "colorscale": [
             [
              0,
              "#0d0887"
             ],
             [
              0.1111111111111111,
              "#46039f"
             ],
             [
              0.2222222222222222,
              "#7201a8"
             ],
             [
              0.3333333333333333,
              "#9c179e"
             ],
             [
              0.4444444444444444,
              "#bd3786"
             ],
             [
              0.5555555555555556,
              "#d8576b"
             ],
             [
              0.6666666666666666,
              "#ed7953"
             ],
             [
              0.7777777777777778,
              "#fb9f3a"
             ],
             [
              0.8888888888888888,
              "#fdca26"
             ],
             [
              1,
              "#f0f921"
             ]
            ],
            "type": "heatmap"
           }
          ],
          "heatmapgl": [
           {
            "colorbar": {
             "outlinewidth": 0,
             "ticks": ""
            },
            "colorscale": [
             [
              0,
              "#0d0887"
             ],
             [
              0.1111111111111111,
              "#46039f"
             ],
             [
              0.2222222222222222,
              "#7201a8"
             ],
             [
              0.3333333333333333,
              "#9c179e"
             ],
             [
              0.4444444444444444,
              "#bd3786"
             ],
             [
              0.5555555555555556,
              "#d8576b"
             ],
             [
              0.6666666666666666,
              "#ed7953"
             ],
             [
              0.7777777777777778,
              "#fb9f3a"
             ],
             [
              0.8888888888888888,
              "#fdca26"
             ],
             [
              1,
              "#f0f921"
             ]
            ],
            "type": "heatmapgl"
           }
          ],
          "histogram": [
           {
            "marker": {
             "pattern": {
              "fillmode": "overlay",
              "size": 10,
              "solidity": 0.2
             }
            },
            "type": "histogram"
           }
          ],
          "histogram2d": [
           {
            "colorbar": {
             "outlinewidth": 0,
             "ticks": ""
            },
            "colorscale": [
             [
              0,
              "#0d0887"
             ],
             [
              0.1111111111111111,
              "#46039f"
             ],
             [
              0.2222222222222222,
              "#7201a8"
             ],
             [
              0.3333333333333333,
              "#9c179e"
             ],
             [
              0.4444444444444444,
              "#bd3786"
             ],
             [
              0.5555555555555556,
              "#d8576b"
             ],
             [
              0.6666666666666666,
              "#ed7953"
             ],
             [
              0.7777777777777778,
              "#fb9f3a"
             ],
             [
              0.8888888888888888,
              "#fdca26"
             ],
             [
              1,
              "#f0f921"
             ]
            ],
            "type": "histogram2d"
           }
          ],
          "histogram2dcontour": [
           {
            "colorbar": {
             "outlinewidth": 0,
             "ticks": ""
            },
            "colorscale": [
             [
              0,
              "#0d0887"
             ],
             [
              0.1111111111111111,
              "#46039f"
             ],
             [
              0.2222222222222222,
              "#7201a8"
             ],
             [
              0.3333333333333333,
              "#9c179e"
             ],
             [
              0.4444444444444444,
              "#bd3786"
             ],
             [
              0.5555555555555556,
              "#d8576b"
             ],
             [
              0.6666666666666666,
              "#ed7953"
             ],
             [
              0.7777777777777778,
              "#fb9f3a"
             ],
             [
              0.8888888888888888,
              "#fdca26"
             ],
             [
              1,
              "#f0f921"
             ]
            ],
            "type": "histogram2dcontour"
           }
          ],
          "mesh3d": [
           {
            "colorbar": {
             "outlinewidth": 0,
             "ticks": ""
            },
            "type": "mesh3d"
           }
          ],
          "parcoords": [
           {
            "line": {
             "colorbar": {
              "outlinewidth": 0,
              "ticks": ""
             }
            },
            "type": "parcoords"
           }
          ],
          "pie": [
           {
            "automargin": true,
            "type": "pie"
           }
          ],
          "scatter": [
           {
            "fillpattern": {
             "fillmode": "overlay",
             "size": 10,
             "solidity": 0.2
            },
            "type": "scatter"
           }
          ],
          "scatter3d": [
           {
            "line": {
             "colorbar": {
              "outlinewidth": 0,
              "ticks": ""
             }
            },
            "marker": {
             "colorbar": {
              "outlinewidth": 0,
              "ticks": ""
             }
            },
            "type": "scatter3d"
           }
          ],
          "scattercarpet": [
           {
            "marker": {
             "colorbar": {
              "outlinewidth": 0,
              "ticks": ""
             }
            },
            "type": "scattercarpet"
           }
          ],
          "scattergeo": [
           {
            "marker": {
             "colorbar": {
              "outlinewidth": 0,
              "ticks": ""
             }
            },
            "type": "scattergeo"
           }
          ],
          "scattergl": [
           {
            "marker": {
             "colorbar": {
              "outlinewidth": 0,
              "ticks": ""
             }
            },
            "type": "scattergl"
           }
          ],
          "scattermapbox": [
           {
            "marker": {
             "colorbar": {
              "outlinewidth": 0,
              "ticks": ""
             }
            },
            "type": "scattermapbox"
           }
          ],
          "scatterpolar": [
           {
            "marker": {
             "colorbar": {
              "outlinewidth": 0,
              "ticks": ""
             }
            },
            "type": "scatterpolar"
           }
          ],
          "scatterpolargl": [
           {
            "marker": {
             "colorbar": {
              "outlinewidth": 0,
              "ticks": ""
             }
            },
            "type": "scatterpolargl"
           }
          ],
          "scatterternary": [
           {
            "marker": {
             "colorbar": {
              "outlinewidth": 0,
              "ticks": ""
             }
            },
            "type": "scatterternary"
           }
          ],
          "surface": [
           {
            "colorbar": {
             "outlinewidth": 0,
             "ticks": ""
            },
            "colorscale": [
             [
              0,
              "#0d0887"
             ],
             [
              0.1111111111111111,
              "#46039f"
             ],
             [
              0.2222222222222222,
              "#7201a8"
             ],
             [
              0.3333333333333333,
              "#9c179e"
             ],
             [
              0.4444444444444444,
              "#bd3786"
             ],
             [
              0.5555555555555556,
              "#d8576b"
             ],
             [
              0.6666666666666666,
              "#ed7953"
             ],
             [
              0.7777777777777778,
              "#fb9f3a"
             ],
             [
              0.8888888888888888,
              "#fdca26"
             ],
             [
              1,
              "#f0f921"
             ]
            ],
            "type": "surface"
           }
          ],
          "table": [
           {
            "cells": {
             "fill": {
              "color": "#EBF0F8"
             },
             "line": {
              "color": "white"
             }
            },
            "header": {
             "fill": {
              "color": "#C8D4E3"
             },
             "line": {
              "color": "white"
             }
            },
            "type": "table"
           }
          ]
         },
         "layout": {
          "annotationdefaults": {
           "arrowcolor": "#2a3f5f",
           "arrowhead": 0,
           "arrowwidth": 1
          },
          "autotypenumbers": "strict",
          "coloraxis": {
           "colorbar": {
            "outlinewidth": 0,
            "ticks": ""
           }
          },
          "colorscale": {
           "diverging": [
            [
             0,
             "#8e0152"
            ],
            [
             0.1,
             "#c51b7d"
            ],
            [
             0.2,
             "#de77ae"
            ],
            [
             0.3,
             "#f1b6da"
            ],
            [
             0.4,
             "#fde0ef"
            ],
            [
             0.5,
             "#f7f7f7"
            ],
            [
             0.6,
             "#e6f5d0"
            ],
            [
             0.7,
             "#b8e186"
            ],
            [
             0.8,
             "#7fbc41"
            ],
            [
             0.9,
             "#4d9221"
            ],
            [
             1,
             "#276419"
            ]
           ],
           "sequential": [
            [
             0,
             "#0d0887"
            ],
            [
             0.1111111111111111,
             "#46039f"
            ],
            [
             0.2222222222222222,
             "#7201a8"
            ],
            [
             0.3333333333333333,
             "#9c179e"
            ],
            [
             0.4444444444444444,
             "#bd3786"
            ],
            [
             0.5555555555555556,
             "#d8576b"
            ],
            [
             0.6666666666666666,
             "#ed7953"
            ],
            [
             0.7777777777777778,
             "#fb9f3a"
            ],
            [
             0.8888888888888888,
             "#fdca26"
            ],
            [
             1,
             "#f0f921"
            ]
           ],
           "sequentialminus": [
            [
             0,
             "#0d0887"
            ],
            [
             0.1111111111111111,
             "#46039f"
            ],
            [
             0.2222222222222222,
             "#7201a8"
            ],
            [
             0.3333333333333333,
             "#9c179e"
            ],
            [
             0.4444444444444444,
             "#bd3786"
            ],
            [
             0.5555555555555556,
             "#d8576b"
            ],
            [
             0.6666666666666666,
             "#ed7953"
            ],
            [
             0.7777777777777778,
             "#fb9f3a"
            ],
            [
             0.8888888888888888,
             "#fdca26"
            ],
            [
             1,
             "#f0f921"
            ]
           ]
          },
          "colorway": [
           "#636efa",
           "#EF553B",
           "#00cc96",
           "#ab63fa",
           "#FFA15A",
           "#19d3f3",
           "#FF6692",
           "#B6E880",
           "#FF97FF",
           "#FECB52"
          ],
          "font": {
           "color": "#2a3f5f"
          },
          "geo": {
           "bgcolor": "white",
           "lakecolor": "white",
           "landcolor": "#E5ECF6",
           "showlakes": true,
           "showland": true,
           "subunitcolor": "white"
          },
          "hoverlabel": {
           "align": "left"
          },
          "hovermode": "closest",
          "mapbox": {
           "style": "light"
          },
          "paper_bgcolor": "white",
          "plot_bgcolor": "#E5ECF6",
          "polar": {
           "angularaxis": {
            "gridcolor": "white",
            "linecolor": "white",
            "ticks": ""
           },
           "bgcolor": "#E5ECF6",
           "radialaxis": {
            "gridcolor": "white",
            "linecolor": "white",
            "ticks": ""
           }
          },
          "scene": {
           "xaxis": {
            "backgroundcolor": "#E5ECF6",
            "gridcolor": "white",
            "gridwidth": 2,
            "linecolor": "white",
            "showbackground": true,
            "ticks": "",
            "zerolinecolor": "white"
           },
           "yaxis": {
            "backgroundcolor": "#E5ECF6",
            "gridcolor": "white",
            "gridwidth": 2,
            "linecolor": "white",
            "showbackground": true,
            "ticks": "",
            "zerolinecolor": "white"
           },
           "zaxis": {
            "backgroundcolor": "#E5ECF6",
            "gridcolor": "white",
            "gridwidth": 2,
            "linecolor": "white",
            "showbackground": true,
            "ticks": "",
            "zerolinecolor": "white"
           }
          },
          "shapedefaults": {
           "line": {
            "color": "#2a3f5f"
           }
          },
          "ternary": {
           "aaxis": {
            "gridcolor": "white",
            "linecolor": "white",
            "ticks": ""
           },
           "baxis": {
            "gridcolor": "white",
            "linecolor": "white",
            "ticks": ""
           },
           "bgcolor": "#E5ECF6",
           "caxis": {
            "gridcolor": "white",
            "linecolor": "white",
            "ticks": ""
           }
          },
          "title": {
           "x": 0.05
          },
          "xaxis": {
           "automargin": true,
           "gridcolor": "white",
           "linecolor": "white",
           "ticks": "",
           "title": {
            "standoff": 15
           },
           "zerolinecolor": "white",
           "zerolinewidth": 2
          },
          "yaxis": {
           "automargin": true,
           "gridcolor": "white",
           "linecolor": "white",
           "ticks": "",
           "title": {
            "standoff": 15
           },
           "zerolinecolor": "white",
           "zerolinewidth": 2
          }
         }
        },
        "title": {
         "text": "Clubs with players scoring more than 10% of the team goals"
        },
        "width": 800,
        "xaxis": {
         "anchor": "y",
         "domain": [
          0,
          1
         ],
         "title": {
          "text": "Goalrate"
         },
         "type": "log"
        },
        "yaxis": {
         "anchor": "x",
         "domain": [
          0,
          1
         ],
         "title": {
          "text": "Team-name"
         }
        }
       }
      },
      "text/html": [
       "<div>                            <div id=\"8eb74e9e-748a-41d4-a2e8-53d1152aa362\" class=\"plotly-graph-div\" style=\"height:600px; width:800px;\"></div>            <script type=\"text/javascript\">                require([\"plotly\"], function(Plotly) {                    window.PLOTLYENV=window.PLOTLYENV || {};                                    if (document.getElementById(\"8eb74e9e-748a-41d4-a2e8-53d1152aa362\")) {                    Plotly.newPlot(                        \"8eb74e9e-748a-41d4-a2e8-53d1152aa362\",                        [{\"hovertemplate\":\"<b>%{hovertext}</b><br><br>Goalrate=%{x}<br>Team-name=%{y}<br>Goals=%{marker.size}<extra></extra>\",\"hovertext\":[\"Robert Lewandowski\",\"Karim Benzema\",\"Antoine Griezmann\",\"Vin\\u00edcius J\\u00fanior\",\"Pedri\",\"Federico Valverde\",\"Joselu\",\"Ousmane Demb\\u00e9l\\u00e9\",\"Gonzalo Escalante\",\"Sergi Darder\",\"Enes \\u00dcnal\",\"Iago Aspas\",\"Raphinha\",\"Isi Palaz\\u00f3n\",\"Vedat Muriqi\",\"Brais M\\u00e9ndez\",\"Sergi Guardiola\",\"Gerard Moreno\",\"Gabri Veiga\",\"Lee Kang-In\",\"\\u00c1lvaro Morata\",\"Alexander S\\u00f8rloth\",\"\\u00c1lvaro Garc\\u00eda\",\"Takefusa Kubo\",\"Nico Williams\",\"Samuel Chukwueze\",\"Florian Lejeune\",\"I\\u00f1aki Williams\",\"Sergio Canales\",\"Borja Iglesias\",\"El Bilal Tour\\u00e9\",\"Chimy Avila\",\"Marco Asensio\",\"Martin Braithwaite\",\"Oihan Sancet\",\"Justin Kluivert\",\"Cyle Larin\",\"Nemanja Gudelj\",\"Yeremy Pino\",\"Sergio Camello\",\"\\u00d3liver Torres\",\"Dani Rodr\\u00edguez\",\"Lucas Boy\\u00e9\",\"Valent\\u00edn Castellanos\",\"\\u00c1lex Baena\",\"L\\u00e9o Baptist\\u00e3o\",\"Rub\\u00e9n Alcaraz\",\"Rodrigo Riquelme\",\"Samu Castillejo\",\"Rub\\u00e9n Sobrino\",\"Juanmi\",\"Pere Milla\",\"Th\\u00e9o Bongonda\",\"Aimar Oroz\",\"Edinson Cavani\",\"Youssef En-Nesyri\",\"Roque Mesa\",\"Borja Mayoral\",\"Gorka Guruzeta\",\"\\u00c1ngel Correa\",\"Erik Lamela\",\"Jos\\u00e9 Morales\",\"\\u00c1lex Fern\\u00e1ndez\",\"Largie Ramazani\",\"Cristhian Stuani\",\"Sergio Le\\u00f3n\",\"Rafa Mir\",\"Ezequiel Ponce\",\"Lucas P\\u00e9rez\"],\"legendgroup\":\"\",\"marker\":{\"color\":\"#636efa\",\"size\":[15.0,11.0,8.0,8.0,6.0,7.0,12.0,5.0,2.0,4.0,12.0,11.0,6.0,5.0,10.0,7.0,2.0,6.0,8.0,3.0,10.0,9.0,4.0,4.0,4.0,3.0,4.0,5.0,4.0,11.0,6.0,7.0,5.0,8.0,8.0,4.0,4.0,3.0,3.0,5.0,3.0,3.0,3.0,6.0,4.0,3.0,2.0,4.0,3.0,2.0,4.0,6.0,2.0,3.0,5.0,5.0,2.0,6.0,5.0,5.0,4.0,4.0,3.0,3.0,6.0,5.0,3.0,3.0,3.0],\"sizemode\":\"area\",\"sizeref\":0.0375,\"symbol\":\"circle\"},\"mode\":\"markers\",\"name\":\"\",\"orientation\":\"h\",\"showlegend\":false,\"x\":[0.3191489361702128,0.22,0.23529411764705882,0.16,0.1276595744680851,0.14,0.3870967741935484,0.10638297872340426,0.10526315789473684,0.12903225806451613,0.48,0.4074074074074074,0.1276595744680851,0.19230769230769232,0.47619047619047616,0.22580645161290322,0.10526315789473684,0.21428571428571427,0.2962962962962963,0.14285714285714285,0.29411764705882354,0.2903225806451613,0.15384615384615385,0.12903225806451613,0.125,0.10714285714285714,0.15384615384615385,0.15625,0.13333333333333333,0.36666666666666664,0.2222222222222222,0.3333333333333333,0.1,0.25806451612903225,0.25,0.15384615384615385,0.2222222222222222,0.10714285714285714,0.10714285714285714,0.19230769230769232,0.10714285714285714,0.14285714285714285,0.15789473684210525,0.18181818181818182,0.14285714285714285,0.1111111111111111,0.10526315789473684,0.12121212121212122,0.11538461538461539,0.10526315789473684,0.13333333333333333,0.3157894736842105,0.10526315789473684,0.14285714285714285,0.19230769230769232,0.17857142857142858,0.1111111111111111,0.24,0.15625,0.14705882352941177,0.14285714285714285,0.14285714285714285,0.15789473684210525,0.1111111111111111,0.18181818181818182,0.2777777777777778,0.10714285714285714,0.15789473684210525,0.15789473684210525],\"xaxis\":\"x\",\"y\":[\"Barcelona\",\"Real Madrid\",\"Atletico\",\"Real Madrid\",\"Barcelona\",\"Real Madrid\",\"Espanyol\",\"Barcelona\",\"Cadiz\",\"Espanyol\",\"Getafe\",\"Celta Vigo\",\"Barcelona\",\"Rayo Vallecano\",\"Mallorca\",\"Real Sociedad\",\"Cadiz\",\"Villarreal\",\"Celta Vigo\",\"Mallorca\",\"Atletico\",\"Real Sociedad\",\"Rayo Vallecano\",\"Real Sociedad\",\"Athletic Bilbao\",\"Villarreal\",\"Rayo Vallecano\",\"Athletic Bilbao\",\"Real Betis\",\"Real Betis\",\"Almeria\",\"Osasuna\",\"Real Madrid\",\"Espanyol\",\"Athletic Bilbao\",\"Valencia\",\"Real Valladolid\",\"Sevilla\",\"Villarreal\",\"Rayo Vallecano\",\"Sevilla\",\"Mallorca\",\"Elche\",\"Girona\",\"Villarreal\",\"Almeria\",\"Cadiz\",\"Girona\",\"Valencia\",\"Cadiz\",\"Real Betis\",\"Elche\",\"Cadiz\",\"Osasuna\",\"Valencia\",\"Sevilla\",\"Real Valladolid\",\"Getafe\",\"Athletic Bilbao\",\"Atletico\",\"Sevilla\",\"Villarreal\",\"Cadiz\",\"Almeria\",\"Girona\",\"Real Valladolid\",\"Sevilla\",\"Elche\",\"Cadiz\"],\"yaxis\":\"y\",\"type\":\"scatter\"}],                        {\"template\":{\"data\":{\"histogram2dcontour\":[{\"type\":\"histogram2dcontour\",\"colorbar\":{\"outlinewidth\":0,\"ticks\":\"\"},\"colorscale\":[[0.0,\"#0d0887\"],[0.1111111111111111,\"#46039f\"],[0.2222222222222222,\"#7201a8\"],[0.3333333333333333,\"#9c179e\"],[0.4444444444444444,\"#bd3786\"],[0.5555555555555556,\"#d8576b\"],[0.6666666666666666,\"#ed7953\"],[0.7777777777777778,\"#fb9f3a\"],[0.8888888888888888,\"#fdca26\"],[1.0,\"#f0f921\"]]}],\"choropleth\":[{\"type\":\"choropleth\",\"colorbar\":{\"outlinewidth\":0,\"ticks\":\"\"}}],\"histogram2d\":[{\"type\":\"histogram2d\",\"colorbar\":{\"outlinewidth\":0,\"ticks\":\"\"},\"colorscale\":[[0.0,\"#0d0887\"],[0.1111111111111111,\"#46039f\"],[0.2222222222222222,\"#7201a8\"],[0.3333333333333333,\"#9c179e\"],[0.4444444444444444,\"#bd3786\"],[0.5555555555555556,\"#d8576b\"],[0.6666666666666666,\"#ed7953\"],[0.7777777777777778,\"#fb9f3a\"],[0.8888888888888888,\"#fdca26\"],[1.0,\"#f0f921\"]]}],\"heatmap\":[{\"type\":\"heatmap\",\"colorbar\":{\"outlinewidth\":0,\"ticks\":\"\"},\"colorscale\":[[0.0,\"#0d0887\"],[0.1111111111111111,\"#46039f\"],[0.2222222222222222,\"#7201a8\"],[0.3333333333333333,\"#9c179e\"],[0.4444444444444444,\"#bd3786\"],[0.5555555555555556,\"#d8576b\"],[0.6666666666666666,\"#ed7953\"],[0.7777777777777778,\"#fb9f3a\"],[0.8888888888888888,\"#fdca26\"],[1.0,\"#f0f921\"]]}],\"heatmapgl\":[{\"type\":\"heatmapgl\",\"colorbar\":{\"outlinewidth\":0,\"ticks\":\"\"},\"colorscale\":[[0.0,\"#0d0887\"],[0.1111111111111111,\"#46039f\"],[0.2222222222222222,\"#7201a8\"],[0.3333333333333333,\"#9c179e\"],[0.4444444444444444,\"#bd3786\"],[0.5555555555555556,\"#d8576b\"],[0.6666666666666666,\"#ed7953\"],[0.7777777777777778,\"#fb9f3a\"],[0.8888888888888888,\"#fdca26\"],[1.0,\"#f0f921\"]]}],\"contourcarpet\":[{\"type\":\"contourcarpet\",\"colorbar\":{\"outlinewidth\":0,\"ticks\":\"\"}}],\"contour\":[{\"type\":\"contour\",\"colorbar\":{\"outlinewidth\":0,\"ticks\":\"\"},\"colorscale\":[[0.0,\"#0d0887\"],[0.1111111111111111,\"#46039f\"],[0.2222222222222222,\"#7201a8\"],[0.3333333333333333,\"#9c179e\"],[0.4444444444444444,\"#bd3786\"],[0.5555555555555556,\"#d8576b\"],[0.6666666666666666,\"#ed7953\"],[0.7777777777777778,\"#fb9f3a\"],[0.8888888888888888,\"#fdca26\"],[1.0,\"#f0f921\"]]}],\"surface\":[{\"type\":\"surface\",\"colorbar\":{\"outlinewidth\":0,\"ticks\":\"\"},\"colorscale\":[[0.0,\"#0d0887\"],[0.1111111111111111,\"#46039f\"],[0.2222222222222222,\"#7201a8\"],[0.3333333333333333,\"#9c179e\"],[0.4444444444444444,\"#bd3786\"],[0.5555555555555556,\"#d8576b\"],[0.6666666666666666,\"#ed7953\"],[0.7777777777777778,\"#fb9f3a\"],[0.8888888888888888,\"#fdca26\"],[1.0,\"#f0f921\"]]}],\"mesh3d\":[{\"type\":\"mesh3d\",\"colorbar\":{\"outlinewidth\":0,\"ticks\":\"\"}}],\"scatter\":[{\"fillpattern\":{\"fillmode\":\"overlay\",\"size\":10,\"solidity\":0.2},\"type\":\"scatter\"}],\"parcoords\":[{\"type\":\"parcoords\",\"line\":{\"colorbar\":{\"outlinewidth\":0,\"ticks\":\"\"}}}],\"scatterpolargl\":[{\"type\":\"scatterpolargl\",\"marker\":{\"colorbar\":{\"outlinewidth\":0,\"ticks\":\"\"}}}],\"bar\":[{\"error_x\":{\"color\":\"#2a3f5f\"},\"error_y\":{\"color\":\"#2a3f5f\"},\"marker\":{\"line\":{\"color\":\"#E5ECF6\",\"width\":0.5},\"pattern\":{\"fillmode\":\"overlay\",\"size\":10,\"solidity\":0.2}},\"type\":\"bar\"}],\"scattergeo\":[{\"type\":\"scattergeo\",\"marker\":{\"colorbar\":{\"outlinewidth\":0,\"ticks\":\"\"}}}],\"scatterpolar\":[{\"type\":\"scatterpolar\",\"marker\":{\"colorbar\":{\"outlinewidth\":0,\"ticks\":\"\"}}}],\"histogram\":[{\"marker\":{\"pattern\":{\"fillmode\":\"overlay\",\"size\":10,\"solidity\":0.2}},\"type\":\"histogram\"}],\"scattergl\":[{\"type\":\"scattergl\",\"marker\":{\"colorbar\":{\"outlinewidth\":0,\"ticks\":\"\"}}}],\"scatter3d\":[{\"type\":\"scatter3d\",\"line\":{\"colorbar\":{\"outlinewidth\":0,\"ticks\":\"\"}},\"marker\":{\"colorbar\":{\"outlinewidth\":0,\"ticks\":\"\"}}}],\"scattermapbox\":[{\"type\":\"scattermapbox\",\"marker\":{\"colorbar\":{\"outlinewidth\":0,\"ticks\":\"\"}}}],\"scatterternary\":[{\"type\":\"scatterternary\",\"marker\":{\"colorbar\":{\"outlinewidth\":0,\"ticks\":\"\"}}}],\"scattercarpet\":[{\"type\":\"scattercarpet\",\"marker\":{\"colorbar\":{\"outlinewidth\":0,\"ticks\":\"\"}}}],\"carpet\":[{\"aaxis\":{\"endlinecolor\":\"#2a3f5f\",\"gridcolor\":\"white\",\"linecolor\":\"white\",\"minorgridcolor\":\"white\",\"startlinecolor\":\"#2a3f5f\"},\"baxis\":{\"endlinecolor\":\"#2a3f5f\",\"gridcolor\":\"white\",\"linecolor\":\"white\",\"minorgridcolor\":\"white\",\"startlinecolor\":\"#2a3f5f\"},\"type\":\"carpet\"}],\"table\":[{\"cells\":{\"fill\":{\"color\":\"#EBF0F8\"},\"line\":{\"color\":\"white\"}},\"header\":{\"fill\":{\"color\":\"#C8D4E3\"},\"line\":{\"color\":\"white\"}},\"type\":\"table\"}],\"barpolar\":[{\"marker\":{\"line\":{\"color\":\"#E5ECF6\",\"width\":0.5},\"pattern\":{\"fillmode\":\"overlay\",\"size\":10,\"solidity\":0.2}},\"type\":\"barpolar\"}],\"pie\":[{\"automargin\":true,\"type\":\"pie\"}]},\"layout\":{\"autotypenumbers\":\"strict\",\"colorway\":[\"#636efa\",\"#EF553B\",\"#00cc96\",\"#ab63fa\",\"#FFA15A\",\"#19d3f3\",\"#FF6692\",\"#B6E880\",\"#FF97FF\",\"#FECB52\"],\"font\":{\"color\":\"#2a3f5f\"},\"hovermode\":\"closest\",\"hoverlabel\":{\"align\":\"left\"},\"paper_bgcolor\":\"white\",\"plot_bgcolor\":\"#E5ECF6\",\"polar\":{\"bgcolor\":\"#E5ECF6\",\"angularaxis\":{\"gridcolor\":\"white\",\"linecolor\":\"white\",\"ticks\":\"\"},\"radialaxis\":{\"gridcolor\":\"white\",\"linecolor\":\"white\",\"ticks\":\"\"}},\"ternary\":{\"bgcolor\":\"#E5ECF6\",\"aaxis\":{\"gridcolor\":\"white\",\"linecolor\":\"white\",\"ticks\":\"\"},\"baxis\":{\"gridcolor\":\"white\",\"linecolor\":\"white\",\"ticks\":\"\"},\"caxis\":{\"gridcolor\":\"white\",\"linecolor\":\"white\",\"ticks\":\"\"}},\"coloraxis\":{\"colorbar\":{\"outlinewidth\":0,\"ticks\":\"\"}},\"colorscale\":{\"sequential\":[[0.0,\"#0d0887\"],[0.1111111111111111,\"#46039f\"],[0.2222222222222222,\"#7201a8\"],[0.3333333333333333,\"#9c179e\"],[0.4444444444444444,\"#bd3786\"],[0.5555555555555556,\"#d8576b\"],[0.6666666666666666,\"#ed7953\"],[0.7777777777777778,\"#fb9f3a\"],[0.8888888888888888,\"#fdca26\"],[1.0,\"#f0f921\"]],\"sequentialminus\":[[0.0,\"#0d0887\"],[0.1111111111111111,\"#46039f\"],[0.2222222222222222,\"#7201a8\"],[0.3333333333333333,\"#9c179e\"],[0.4444444444444444,\"#bd3786\"],[0.5555555555555556,\"#d8576b\"],[0.6666666666666666,\"#ed7953\"],[0.7777777777777778,\"#fb9f3a\"],[0.8888888888888888,\"#fdca26\"],[1.0,\"#f0f921\"]],\"diverging\":[[0,\"#8e0152\"],[0.1,\"#c51b7d\"],[0.2,\"#de77ae\"],[0.3,\"#f1b6da\"],[0.4,\"#fde0ef\"],[0.5,\"#f7f7f7\"],[0.6,\"#e6f5d0\"],[0.7,\"#b8e186\"],[0.8,\"#7fbc41\"],[0.9,\"#4d9221\"],[1,\"#276419\"]]},\"xaxis\":{\"gridcolor\":\"white\",\"linecolor\":\"white\",\"ticks\":\"\",\"title\":{\"standoff\":15},\"zerolinecolor\":\"white\",\"automargin\":true,\"zerolinewidth\":2},\"yaxis\":{\"gridcolor\":\"white\",\"linecolor\":\"white\",\"ticks\":\"\",\"title\":{\"standoff\":15},\"zerolinecolor\":\"white\",\"automargin\":true,\"zerolinewidth\":2},\"scene\":{\"xaxis\":{\"backgroundcolor\":\"#E5ECF6\",\"gridcolor\":\"white\",\"linecolor\":\"white\",\"showbackground\":true,\"ticks\":\"\",\"zerolinecolor\":\"white\",\"gridwidth\":2},\"yaxis\":{\"backgroundcolor\":\"#E5ECF6\",\"gridcolor\":\"white\",\"linecolor\":\"white\",\"showbackground\":true,\"ticks\":\"\",\"zerolinecolor\":\"white\",\"gridwidth\":2},\"zaxis\":{\"backgroundcolor\":\"#E5ECF6\",\"gridcolor\":\"white\",\"linecolor\":\"white\",\"showbackground\":true,\"ticks\":\"\",\"zerolinecolor\":\"white\",\"gridwidth\":2}},\"shapedefaults\":{\"line\":{\"color\":\"#2a3f5f\"}},\"annotationdefaults\":{\"arrowcolor\":\"#2a3f5f\",\"arrowhead\":0,\"arrowwidth\":1},\"geo\":{\"bgcolor\":\"white\",\"landcolor\":\"#E5ECF6\",\"subunitcolor\":\"white\",\"showland\":true,\"showlakes\":true,\"lakecolor\":\"white\"},\"title\":{\"x\":0.05},\"mapbox\":{\"style\":\"light\"}}},\"xaxis\":{\"anchor\":\"y\",\"domain\":[0.0,1.0],\"title\":{\"text\":\"Goalrate\"},\"type\":\"log\"},\"yaxis\":{\"anchor\":\"x\",\"domain\":[0.0,1.0],\"title\":{\"text\":\"Team-name\"}},\"legend\":{\"tracegroupgap\":0,\"itemsizing\":\"constant\"},\"title\":{\"text\":\"Clubs with players scoring more than 10% of the team goals\"},\"height\":600,\"width\":800},                        {\"responsive\": true}                    ).then(function(){\n",
       "                            \n",
       "var gd = document.getElementById('8eb74e9e-748a-41d4-a2e8-53d1152aa362');\n",
       "var x = new MutationObserver(function (mutations, observer) {{\n",
       "        var display = window.getComputedStyle(gd).display;\n",
       "        if (!display || display === 'none') {{\n",
       "            console.log([gd, 'removed!']);\n",
       "            Plotly.purge(gd);\n",
       "            observer.disconnect();\n",
       "        }}\n",
       "}});\n",
       "\n",
       "// Listen for the removal of the full notebook cells\n",
       "var notebookContainer = gd.closest('#notebook-container');\n",
       "if (notebookContainer) {{\n",
       "    x.observe(notebookContainer, {childList: true});\n",
       "}}\n",
       "\n",
       "// Listen for the clearing of the current output cell\n",
       "var outputEl = gd.closest('.output');\n",
       "if (outputEl) {{\n",
       "    x.observe(outputEl, {childList: true});\n",
       "}}\n",
       "\n",
       "                        })                };                });            </script>        </div>"
      ]
     },
     "metadata": {},
     "output_type": "display_data"
    }
   ],
   "source": [
    "import plotly.express as px\n",
    "\n",
    "fig = px.scatter(df[df['Goalrate']>=0.1], x=\"Goalrate\", y=\"Team-name\", size=\"Goals\", hover_name=\"Player Name\", log_x=True, width=800, height=600, title='Clubs with players scoring more than 10% of the team goals')\n",
    "xaxis_title='% Goal Contribute of Player'\n",
    "yaxis_title='Team Name'\n",
    "fig.show()"
   ]
  },
  {
   "cell_type": "markdown",
   "id": "b63c5553",
   "metadata": {},
   "source": [
    "<p><strong>Comment:</strong> While there are many options for scoring goals in Real Madrid, Barcelona is quite dependent on Lewandowski who delivered <strong>32%</strong> of the team goal. This could be the reason why they can't compete with Real Madrid in a long-term race like Laliga, though they have just won Real Madrid in the latest match. Meanwhile, A.Griezmann and A.Morata are delivering more than <strong>50%</strong> of Atletico goals.</p>"
   ]
  },
  {
   "cell_type": "markdown",
   "id": "ea3a0918",
   "metadata": {},
   "source": [
    "<h2>Thanks for watching my analysis!</h2>"
   ]
  }
 ],
 "metadata": {
  "kernelspec": {
   "display_name": "Python 3 (ipykernel)",
   "language": "python",
   "name": "python3"
  },
  "language_info": {
   "codemirror_mode": {
    "name": "ipython",
    "version": 3
   },
   "file_extension": ".py",
   "mimetype": "text/x-python",
   "name": "python",
   "nbconvert_exporter": "python",
   "pygments_lexer": "ipython3",
   "version": "3.9.13"
  }
 },
 "nbformat": 4,
 "nbformat_minor": 5
}
